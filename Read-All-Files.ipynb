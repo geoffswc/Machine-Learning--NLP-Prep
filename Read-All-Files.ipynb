{
 "cells": [
  {
   "cell_type": "code",
   "execution_count": 1,
   "metadata": {},
   "outputs": [],
   "source": [
    "# read a single file into a string"
   ]
  },
  {
   "cell_type": "code",
   "execution_count": 2,
   "metadata": {},
   "outputs": [],
   "source": [
    "with open('mix20_rand700_tokens_0211/tokens/pos/cv082_tok-15467.txt', 'r') as file:\n",
    "    pos_review = file.read()"
   ]
  },
  {
   "cell_type": "code",
   "execution_count": 4,
   "metadata": {},
   "outputs": [],
   "source": [
    "#pos_review"
   ]
  },
  {
   "cell_type": "code",
   "execution_count": 6,
   "metadata": {},
   "outputs": [],
   "source": [
    "with open('mix20_rand700_tokens_0211/tokens/neg/cv505_tok-17424.txt', 'r', encoding='latin1') as file:\n",
    "    neg_reviews = file.read()"
   ]
  },
  {
   "cell_type": "code",
   "execution_count": 7,
   "metadata": {},
   "outputs": [
    {
     "data": {
      "text/plain": [
       "\"it is movies like these that make a jaded movie viewer thankful for the invention of the timex indiglo watch . based on the late 1960's television show by the same name , the mod squad tells the tale of three reformed criminals under the employ of the police to go undercover . however , things go wrong as evidence gets stolen and they are immediately under suspicion . of course , the ads make it seem like so much more . quick cuts , cool music , claire dane's nice hair and cute outfits , car chases , stuff blowing up , and the like . sounds like a cool movie , does it not ? after the first fifteen minutes , it quickly becomes apparent that it is not . the mod squad is certainly a slick looking production , complete with nice hair and costumes , but that simply isn't enough . the film is best described as a cross between an hour-long cop show and a music video , both stretched out into the span of an hour and a half . and with it comes every single cliché . it doesn't really matter that the film is based on a television show , as most of the plot elements have been recycled from everything we've already seen . the characters and acting is nothing spectacular , sometimes even bordering on wooden . claire danes and omar epps deliver their lines as if they are bored , which really transfers onto the audience . the only one to escape relatively unscathed is giovanni ribisi , who plays the resident crazy man , ultimately being the only thing worth watching . unfortunately , even he's not enough to save this convoluted mess , as all the characters don't do much apart from occupying screen time . with the young cast , cool clothes , nice hair , and hip soundtrack , it appears that the film is geared towards the teenage mindset . despite an american 'r' rating ( which the content does not justify ) , the film is way too juvenile for the older mindset . information on the characters is literally spoon-fed to the audience ( would it be that hard to show us instead of telling us ? ) , dialogue is poorly written , and the plot is extremely predictable . the way the film progresses , you likely won't even care if the heroes are in any jeopardy , because you'll know they aren't . basing the show on a 1960's television show that nobody remembers is of questionable wisdom , especially when one considers the target audience and the fact that the number of memorable films based on television shows can be counted on one hand ( even one that's missing a finger or two ) . the number of times that i checked my watch ( six ) is a clear indication that this film is not one of them . it is clear that the film is nothing more than an attempt to cash in on the teenage spending dollar , judging from the rash of really awful teen-flicks that we've been seeing as of late . avoid this film at all costs . \\n\""
      ]
     },
     "execution_count": 7,
     "metadata": {},
     "output_type": "execute_result"
    }
   ],
   "source": [
    "neg_reviews"
   ]
  },
  {
   "cell_type": "code",
   "execution_count": 8,
   "metadata": {},
   "outputs": [],
   "source": [
    "import glob"
   ]
  },
  {
   "cell_type": "code",
   "execution_count": 10,
   "metadata": {},
   "outputs": [
    {
     "name": "stdout",
     "output_type": "stream",
     "text": [
      "mix20_rand700_tokens_0211/tokens/pos/cv439_tok-13632.txt\n",
      "mix20_rand700_tokens_0211/tokens/pos/cv180_tok-20034.txt\n",
      "mix20_rand700_tokens_0211/tokens/pos/cv553_tok-13743.txt\n",
      "mix20_rand700_tokens_0211/tokens/pos/cv026_tok-29622.txt\n",
      "mix20_rand700_tokens_0211/tokens/pos/cv126_tok-13691.txt\n",
      "mix20_rand700_tokens_0211/tokens/pos/cv344_tok-29737.txt\n",
      "mix20_rand700_tokens_0211/tokens/pos/cv345_tok-9908.txt\n",
      "mix20_rand700_tokens_0211/tokens/pos/cv165_tok-11425.txt\n",
      "mix20_rand700_tokens_0211/tokens/pos/cv245_tok-19462.txt\n",
      "mix20_rand700_tokens_0211/tokens/pos/cv156_tok-12349.txt\n"
     ]
    }
   ],
   "source": [
    "for file in glob.glob('mix20_rand700_tokens_0211/tokens/pos/*.txt')[:10]:\n",
    "    print(file)"
   ]
  },
  {
   "cell_type": "code",
   "execution_count": 21,
   "metadata": {},
   "outputs": [],
   "source": [
    "reviews = []\n",
    "for file in glob.glob('mix20_rand700_tokens_0211/tokens/pos/*.txt')[:10]:\n",
    "    with open(file, 'r', encoding='latin1') as f:\n",
    "        pos_review = f.read()\n",
    "        reviews.append((pos_review, 1))\n",
    "        \n",
    "for file in glob.glob('mix20_rand700_tokens_0211/tokens/neg/*.txt')[:10]:\n",
    "    with open(file, 'r', encoding='latin1') as f:\n",
    "        neg_review = f.read()\n",
    "        reviews.append((neg_review, 0))    "
   ]
  },
  {
   "cell_type": "code",
   "execution_count": 19,
   "metadata": {},
   "outputs": [
    {
     "data": {
      "text/plain": [
       "20"
      ]
     },
     "execution_count": 19,
     "metadata": {},
     "output_type": "execute_result"
    }
   ],
   "source": [
    "len(reviews)"
   ]
  },
  {
   "cell_type": "code",
   "execution_count": 24,
   "metadata": {},
   "outputs": [],
   "source": [
    "#reviews[-1]"
   ]
  },
  {
   "cell_type": "code",
   "execution_count": 25,
   "metadata": {},
   "outputs": [],
   "source": [
    "import pandas as pd"
   ]
  },
  {
   "cell_type": "code",
   "execution_count": 28,
   "metadata": {},
   "outputs": [],
   "source": [
    "df = pd.DataFrame(reviews, columns=['review_text', 'review_val'])"
   ]
  },
  {
   "cell_type": "code",
   "execution_count": 29,
   "metadata": {},
   "outputs": [
    {
     "data": {
      "text/html": [
       "<div>\n",
       "<style scoped>\n",
       "    .dataframe tbody tr th:only-of-type {\n",
       "        vertical-align: middle;\n",
       "    }\n",
       "\n",
       "    .dataframe tbody tr th {\n",
       "        vertical-align: top;\n",
       "    }\n",
       "\n",
       "    .dataframe thead th {\n",
       "        text-align: right;\n",
       "    }\n",
       "</style>\n",
       "<table border=\"1\" class=\"dataframe\">\n",
       "  <thead>\n",
       "    <tr style=\"text-align: right;\">\n",
       "      <th></th>\n",
       "      <th>review_text</th>\n",
       "      <th>review_val</th>\n",
       "    </tr>\n",
       "  </thead>\n",
       "  <tbody>\n",
       "    <tr>\n",
       "      <th>0</th>\n",
       "      <td>the farrelly brothers' third film , after dumb...</td>\n",
       "      <td>1</td>\n",
       "    </tr>\n",
       "    <tr>\n",
       "      <th>1</th>\n",
       "      <td>more movie views by jamey hughton at : http : ...</td>\n",
       "      <td>1</td>\n",
       "    </tr>\n",
       "    <tr>\n",
       "      <th>2</th>\n",
       "      <td>if chris farley had strapped some fake mutton-...</td>\n",
       "      <td>1</td>\n",
       "    </tr>\n",
       "    <tr>\n",
       "      <th>3</th>\n",
       "      <td>in zoolander , the world's most successful , i...</td>\n",
       "      <td>1</td>\n",
       "    </tr>\n",
       "    <tr>\n",
       "      <th>4</th>\n",
       "      <td>if the current trends of hollywood filmmaking ...</td>\n",
       "      <td>1</td>\n",
       "    </tr>\n",
       "    <tr>\n",
       "      <th>5</th>\n",
       "      <td>for more reviews and movie trailers , visit ht...</td>\n",
       "      <td>1</td>\n",
       "    </tr>\n",
       "    <tr>\n",
       "      <th>6</th>\n",
       "      <td>director : george armitage cast : john cusack ...</td>\n",
       "      <td>1</td>\n",
       "    </tr>\n",
       "    <tr>\n",
       "      <th>7</th>\n",
       "      <td>written by : peter wang and shirley sunstarrin...</td>\n",
       "      <td>1</td>\n",
       "    </tr>\n",
       "    <tr>\n",
       "      <th>8</th>\n",
       "      <td>if you¹ve been paying attention to the media f...</td>\n",
       "      <td>1</td>\n",
       "    </tr>\n",
       "    <tr>\n",
       "      <th>9</th>\n",
       "      <td>director : john sayles || screenplay : john sa...</td>\n",
       "      <td>1</td>\n",
       "    </tr>\n",
       "    <tr>\n",
       "      <th>10</th>\n",
       "      <td>summer catch ( 2001 ) . starring freddie prinz...</td>\n",
       "      <td>0</td>\n",
       "    </tr>\n",
       "    <tr>\n",
       "      <th>11</th>\n",
       "      <td>as you should know , this summer has been less...</td>\n",
       "      <td>0</td>\n",
       "    </tr>\n",
       "    <tr>\n",
       "      <th>12</th>\n",
       "      <td>back in the early years of his career , eddie ...</td>\n",
       "      <td>0</td>\n",
       "    </tr>\n",
       "    <tr>\n",
       "      <th>13</th>\n",
       "      <td>the modern use of the western movie , and the ...</td>\n",
       "      <td>0</td>\n",
       "    </tr>\n",
       "    <tr>\n",
       "      <th>14</th>\n",
       "      <td>note : some may consider portions of the follo...</td>\n",
       "      <td>0</td>\n",
       "    </tr>\n",
       "    <tr>\n",
       "      <th>15</th>\n",
       "      <td>running time : 1 hour 35 minutes starring kurt...</td>\n",
       "      <td>0</td>\n",
       "    </tr>\n",
       "    <tr>\n",
       "      <th>16</th>\n",
       "      <td>the army comedy genre has never turned out a t...</td>\n",
       "      <td>0</td>\n",
       "    </tr>\n",
       "    <tr>\n",
       "      <th>17</th>\n",
       "      <td>director :   woody allen cast :   hank azaria ...</td>\n",
       "      <td>0</td>\n",
       "    </tr>\n",
       "    <tr>\n",
       "      <th>18</th>\n",
       "      <td>rated r starring claire danes , omar epps , gi...</td>\n",
       "      <td>0</td>\n",
       "    </tr>\n",
       "    <tr>\n",
       "      <th>19</th>\n",
       "      <td>united states , 1998 u . s . release date : 5/...</td>\n",
       "      <td>0</td>\n",
       "    </tr>\n",
       "  </tbody>\n",
       "</table>\n",
       "</div>"
      ],
      "text/plain": [
       "                                          review_text  review_val\n",
       "0   the farrelly brothers' third film , after dumb...           1\n",
       "1   more movie views by jamey hughton at : http : ...           1\n",
       "2   if chris farley had strapped some fake mutton-...           1\n",
       "3   in zoolander , the world's most successful , i...           1\n",
       "4   if the current trends of hollywood filmmaking ...           1\n",
       "5   for more reviews and movie trailers , visit ht...           1\n",
       "6   director : george armitage cast : john cusack ...           1\n",
       "7   written by : peter wang and shirley sunstarrin...           1\n",
       "8   if you¹ve been paying attention to the media f...           1\n",
       "9   director : john sayles || screenplay : john sa...           1\n",
       "10  summer catch ( 2001 ) . starring freddie prinz...           0\n",
       "11  as you should know , this summer has been less...           0\n",
       "12  back in the early years of his career , eddie ...           0\n",
       "13  the modern use of the western movie , and the ...           0\n",
       "14  note : some may consider portions of the follo...           0\n",
       "15  running time : 1 hour 35 minutes starring kurt...           0\n",
       "16  the army comedy genre has never turned out a t...           0\n",
       "17  director :   woody allen cast :   hank azaria ...           0\n",
       "18  rated r starring claire danes , omar epps , gi...           0\n",
       "19  united states , 1998 u . s . release date : 5/...           0"
      ]
     },
     "execution_count": 29,
     "metadata": {},
     "output_type": "execute_result"
    }
   ],
   "source": [
    "df"
   ]
  },
  {
   "cell_type": "code",
   "execution_count": null,
   "metadata": {},
   "outputs": [],
   "source": []
  }
 ],
 "metadata": {
  "kernelspec": {
   "display_name": "Python 3",
   "language": "python",
   "name": "python3"
  },
  "language_info": {
   "codemirror_mode": {
    "name": "ipython",
    "version": 3
   },
   "file_extension": ".py",
   "mimetype": "text/x-python",
   "name": "python",
   "nbconvert_exporter": "python",
   "pygments_lexer": "ipython3",
   "version": "3.8.3"
  }
 },
 "nbformat": 4,
 "nbformat_minor": 4
}
