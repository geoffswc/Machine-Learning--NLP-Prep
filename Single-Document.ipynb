{
 "cells": [
  {
   "cell_type": "code",
   "execution_count": 2,
   "id": "895d2905",
   "metadata": {},
   "outputs": [],
   "source": [
    "economics_text = \"\"\"\n",
    "Economics (/ˌɛkəˈnɒmɪks, ˌiːkə-/)[1] is a social science that studies the production, distribution, and consumption of goods and services.[2][3]\n",
    "\n",
    "Economics focuses on the behaviour and interactions of economic agents and how economies work. Microeconomics analyzes what's viewed as basic elements in the economy, including individual agents and markets, their interactions, and the outcomes of interactions. Individual agents may include, for example, households, firms, buyers, and sellers. Macroeconomics analyzes the economy as a system where production, consumption, saving, and investment interact, and factors affecting it: employment of the resources of labour, capital, and land, currency inflation, economic growth, and public policies that have impact on these elements.\n",
    "\n",
    "Other broad distinctions within economics include those between positive economics, describing \"what is\", and normative economics, advocating \"what ought to be\";[4] between economic theory and applied economics; between rational and behavioural economics; and between mainstream economics and heterodox economics.[5]\n",
    "\n",
    "Economic analysis can be applied throughout society, including business,[6] finance, cybersecurity,[7] health care,[8] engineering[9] and government.[10] It is also applied to such diverse subjects as crime,[11] education,[12] the family,[13] feminism,[14] law,[15] philosophy,[16] politics, religion,[17] social institutions, war,[18] science,[19] and the environment.[20]\n",
    "\"\"\""
   ]
  },
  {
   "cell_type": "code",
   "execution_count": 3,
   "id": "38524d26",
   "metadata": {},
   "outputs": [
    {
     "name": "stdout",
     "output_type": "stream",
     "text": [
      "\n",
      "Economics (/ˌɛkəˈnɒmɪks, ˌiːkə-/)[1] is a social science that studies the production, distribution, and consumption of goods and services.[2][3]\n",
      "\n",
      "Economics focuses on the behaviour and interactions of economic agents and how economies work. Microeconomics analyzes what's viewed as basic elements in the economy, including individual agents and markets, their interactions, and the outcomes of interactions. Individual agents may include, for example, households, firms, buyers, and sellers. Macroeconomics analyzes the economy as a system where production, consumption, saving, and investment interact, and factors affecting it: employment of the resources of labour, capital, and land, currency inflation, economic growth, and public policies that have impact on these elements.\n",
      "\n",
      "Other broad distinctions within economics include those between positive economics, describing \"what is\", and normative economics, advocating \"what ought to be\";[4] between economic theory and applied economics; between rational and behavioural economics; and between mainstream economics and heterodox economics.[5]\n",
      "\n",
      "Economic analysis can be applied throughout society, including business,[6] finance, cybersecurity,[7] health care,[8] engineering[9] and government.[10] It is also applied to such diverse subjects as crime,[11] education,[12] the family,[13] feminism,[14] law,[15] philosophy,[16] politics, religion,[17] social institutions, war,[18] science,[19] and the environment.[20]\n",
      "\n"
     ]
    }
   ],
   "source": [
    "print(economics_text)"
   ]
  },
  {
   "cell_type": "code",
   "execution_count": 4,
   "id": "92074f8c",
   "metadata": {},
   "outputs": [
    {
     "data": {
      "text/plain": [
       "str"
      ]
     },
     "execution_count": 4,
     "metadata": {},
     "output_type": "execute_result"
    }
   ],
   "source": [
    "type(economics_text)"
   ]
  },
  {
   "cell_type": "code",
   "execution_count": 5,
   "id": "5a35ff0e",
   "metadata": {},
   "outputs": [
    {
     "data": {
      "text/plain": [
       "1475"
      ]
     },
     "execution_count": 5,
     "metadata": {},
     "output_type": "execute_result"
    }
   ],
   "source": [
    "len(economics_text)"
   ]
  },
  {
   "cell_type": "code",
   "execution_count": 6,
   "id": "65796915",
   "metadata": {},
   "outputs": [
    {
     "data": {
      "text/plain": [
       "'\\nEconomics (/ˌɛkəˈnɒmɪks, ˌiːkə-/)[1] is a social science that studies the production, distribution, and consumption of goods and services.[2][3]\\n\\nEconomics focuses on the behaviour and interactions of economic agents and how economies work. Microeconomics analyzes what\\'s viewed as basic elements in the economy, including individual agents and markets, their interactions, and the outcomes of interactions. Individual agents may include, for example, households, firms, buyers, and sellers. Macroeconomics analyzes the economy as a system where production, consumption, saving, and investment interact, and factors affecting it: employment of the resources of labour, capital, and land, currency inflation, economic growth, and public policies that have impact on these elements.\\n\\nOther broad distinctions within economics include those between positive economics, describing \"what is\", and normative economics, advocating \"what ought to be\";[4] between economic theory and applied economics; between rational and behavioural economics; and between mainstream economics and heterodox economics.[5]\\n\\nEconomic analysis can be applied throughout society, including business,[6] finance, cybersecurity,[7] health care,[8] engineering[9] and government.[10] It is also applied to such diverse subjects as crime,[11] education,[12] the family,[13] feminism,[14] law,[15] philosophy,[16] politics, religion,[17] social institutions, war,[18] science,[19] and the environment.[20]\\n'"
      ]
     },
     "execution_count": 6,
     "metadata": {},
     "output_type": "execute_result"
    }
   ],
   "source": [
    "economics_text"
   ]
  },
  {
   "cell_type": "code",
   "execution_count": 7,
   "id": "52ddffc0",
   "metadata": {},
   "outputs": [
    {
     "name": "stdout",
     "output_type": "stream",
     "text": [
      "Variable         Type    Data/Info\n",
      "----------------------------------\n",
      "economics_text   str     \\nEconomics (/ˌɛkəˈnɒmɪks<...>nd the environment.[20]\\n\n"
     ]
    }
   ],
   "source": [
    "whos"
   ]
  },
  {
   "cell_type": "code",
   "execution_count": 10,
   "id": "5e6ce544",
   "metadata": {},
   "outputs": [],
   "source": [
    "substring = economics_text[10:50] + economics_text[90:100]"
   ]
  },
  {
   "cell_type": "code",
   "execution_count": 11,
   "id": "62c012c8",
   "metadata": {},
   "outputs": [
    {
     "data": {
      "text/plain": [
       "' (/ˌɛkəˈnɒmɪks, ˌiːkə-/)[1] is a social tribution,'"
      ]
     },
     "execution_count": 11,
     "metadata": {},
     "output_type": "execute_result"
    }
   ],
   "source": [
    "substring"
   ]
  },
  {
   "cell_type": "code",
   "execution_count": 12,
   "id": "44cf0219",
   "metadata": {},
   "outputs": [],
   "source": [
    "# tokenizing\n",
    "# to split a block of text into individual words or tokens"
   ]
  },
  {
   "cell_type": "code",
   "execution_count": 13,
   "id": "977594b0",
   "metadata": {},
   "outputs": [
    {
     "data": {
      "text/plain": [
       "['Economics',\n",
       " '(/ˌɛkəˈnɒmɪks,',\n",
       " 'ˌiːkə-/)[1]',\n",
       " 'is',\n",
       " 'a',\n",
       " 'social',\n",
       " 'science',\n",
       " 'that',\n",
       " 'studies',\n",
       " 'the',\n",
       " 'production,',\n",
       " 'distribution,',\n",
       " 'and',\n",
       " 'consumption',\n",
       " 'of',\n",
       " 'goods',\n",
       " 'and',\n",
       " 'services.[2][3]',\n",
       " 'Economics',\n",
       " 'focuses',\n",
       " 'on',\n",
       " 'the',\n",
       " 'behaviour',\n",
       " 'and',\n",
       " 'interactions',\n",
       " 'of',\n",
       " 'economic',\n",
       " 'agents',\n",
       " 'and',\n",
       " 'how',\n",
       " 'economies',\n",
       " 'work.',\n",
       " 'Microeconomics',\n",
       " 'analyzes',\n",
       " \"what's\",\n",
       " 'viewed',\n",
       " 'as',\n",
       " 'basic',\n",
       " 'elements',\n",
       " 'in',\n",
       " 'the',\n",
       " 'economy,',\n",
       " 'including',\n",
       " 'individual',\n",
       " 'agents',\n",
       " 'and',\n",
       " 'markets,',\n",
       " 'their',\n",
       " 'interactions,',\n",
       " 'and',\n",
       " 'the',\n",
       " 'outcomes',\n",
       " 'of',\n",
       " 'interactions.',\n",
       " 'Individual',\n",
       " 'agents',\n",
       " 'may',\n",
       " 'include,',\n",
       " 'for',\n",
       " 'example,',\n",
       " 'households,',\n",
       " 'firms,',\n",
       " 'buyers,',\n",
       " 'and',\n",
       " 'sellers.',\n",
       " 'Macroeconomics',\n",
       " 'analyzes',\n",
       " 'the',\n",
       " 'economy',\n",
       " 'as',\n",
       " 'a',\n",
       " 'system',\n",
       " 'where',\n",
       " 'production,',\n",
       " 'consumption,',\n",
       " 'saving,',\n",
       " 'and',\n",
       " 'investment',\n",
       " 'interact,',\n",
       " 'and',\n",
       " 'factors',\n",
       " 'affecting',\n",
       " 'it:',\n",
       " 'employment',\n",
       " 'of',\n",
       " 'the',\n",
       " 'resources',\n",
       " 'of',\n",
       " 'labour,',\n",
       " 'capital,',\n",
       " 'and',\n",
       " 'land,',\n",
       " 'currency',\n",
       " 'inflation,',\n",
       " 'economic',\n",
       " 'growth,',\n",
       " 'and',\n",
       " 'public',\n",
       " 'policies',\n",
       " 'that',\n",
       " 'have',\n",
       " 'impact',\n",
       " 'on',\n",
       " 'these',\n",
       " 'elements.',\n",
       " 'Other',\n",
       " 'broad',\n",
       " 'distinctions',\n",
       " 'within',\n",
       " 'economics',\n",
       " 'include',\n",
       " 'those',\n",
       " 'between',\n",
       " 'positive',\n",
       " 'economics,',\n",
       " 'describing',\n",
       " '\"what',\n",
       " 'is\",',\n",
       " 'and',\n",
       " 'normative',\n",
       " 'economics,',\n",
       " 'advocating',\n",
       " '\"what',\n",
       " 'ought',\n",
       " 'to',\n",
       " 'be\";[4]',\n",
       " 'between',\n",
       " 'economic',\n",
       " 'theory',\n",
       " 'and',\n",
       " 'applied',\n",
       " 'economics;',\n",
       " 'between',\n",
       " 'rational',\n",
       " 'and',\n",
       " 'behavioural',\n",
       " 'economics;',\n",
       " 'and',\n",
       " 'between',\n",
       " 'mainstream',\n",
       " 'economics',\n",
       " 'and',\n",
       " 'heterodox',\n",
       " 'economics.[5]',\n",
       " 'Economic',\n",
       " 'analysis',\n",
       " 'can',\n",
       " 'be',\n",
       " 'applied',\n",
       " 'throughout',\n",
       " 'society,',\n",
       " 'including',\n",
       " 'business,[6]',\n",
       " 'finance,',\n",
       " 'cybersecurity,[7]',\n",
       " 'health',\n",
       " 'care,[8]',\n",
       " 'engineering[9]',\n",
       " 'and',\n",
       " 'government.[10]',\n",
       " 'It',\n",
       " 'is',\n",
       " 'also',\n",
       " 'applied',\n",
       " 'to',\n",
       " 'such',\n",
       " 'diverse',\n",
       " 'subjects',\n",
       " 'as',\n",
       " 'crime,[11]',\n",
       " 'education,[12]',\n",
       " 'the',\n",
       " 'family,[13]',\n",
       " 'feminism,[14]',\n",
       " 'law,[15]',\n",
       " 'philosophy,[16]',\n",
       " 'politics,',\n",
       " 'religion,[17]',\n",
       " 'social',\n",
       " 'institutions,',\n",
       " 'war,[18]',\n",
       " 'science,[19]',\n",
       " 'and',\n",
       " 'the',\n",
       " 'environment.[20]']"
      ]
     },
     "execution_count": 13,
     "metadata": {},
     "output_type": "execute_result"
    }
   ],
   "source": [
    "economics_text.split()"
   ]
  },
  {
   "cell_type": "code",
   "execution_count": 14,
   "id": "52b8f8ac",
   "metadata": {},
   "outputs": [],
   "source": [
    "tokens = economics_text.split()"
   ]
  },
  {
   "cell_type": "code",
   "execution_count": 15,
   "id": "759ffcc3",
   "metadata": {},
   "outputs": [
    {
     "data": {
      "text/plain": [
       "['Economics',\n",
       " '(/ˌɛkəˈnɒmɪks,',\n",
       " 'ˌiːkə-/)[1]',\n",
       " 'is',\n",
       " 'a',\n",
       " 'social',\n",
       " 'science',\n",
       " 'that',\n",
       " 'studies',\n",
       " 'the',\n",
       " 'production,',\n",
       " 'distribution,',\n",
       " 'and',\n",
       " 'consumption',\n",
       " 'of',\n",
       " 'goods',\n",
       " 'and',\n",
       " 'services.[2][3]',\n",
       " 'Economics',\n",
       " 'focuses',\n",
       " 'on',\n",
       " 'the',\n",
       " 'behaviour',\n",
       " 'and',\n",
       " 'interactions',\n",
       " 'of',\n",
       " 'economic',\n",
       " 'agents',\n",
       " 'and',\n",
       " 'how',\n",
       " 'economies',\n",
       " 'work.',\n",
       " 'Microeconomics',\n",
       " 'analyzes',\n",
       " \"what's\",\n",
       " 'viewed',\n",
       " 'as',\n",
       " 'basic',\n",
       " 'elements',\n",
       " 'in',\n",
       " 'the',\n",
       " 'economy,',\n",
       " 'including',\n",
       " 'individual',\n",
       " 'agents',\n",
       " 'and',\n",
       " 'markets,',\n",
       " 'their',\n",
       " 'interactions,',\n",
       " 'and',\n",
       " 'the',\n",
       " 'outcomes',\n",
       " 'of',\n",
       " 'interactions.',\n",
       " 'Individual',\n",
       " 'agents',\n",
       " 'may',\n",
       " 'include,',\n",
       " 'for',\n",
       " 'example,',\n",
       " 'households,',\n",
       " 'firms,',\n",
       " 'buyers,',\n",
       " 'and',\n",
       " 'sellers.',\n",
       " 'Macroeconomics',\n",
       " 'analyzes',\n",
       " 'the',\n",
       " 'economy',\n",
       " 'as',\n",
       " 'a',\n",
       " 'system',\n",
       " 'where',\n",
       " 'production,',\n",
       " 'consumption,',\n",
       " 'saving,',\n",
       " 'and',\n",
       " 'investment',\n",
       " 'interact,',\n",
       " 'and',\n",
       " 'factors',\n",
       " 'affecting',\n",
       " 'it:',\n",
       " 'employment',\n",
       " 'of',\n",
       " 'the',\n",
       " 'resources',\n",
       " 'of',\n",
       " 'labour,',\n",
       " 'capital,',\n",
       " 'and',\n",
       " 'land,',\n",
       " 'currency',\n",
       " 'inflation,',\n",
       " 'economic',\n",
       " 'growth,',\n",
       " 'and',\n",
       " 'public',\n",
       " 'policies',\n",
       " 'that',\n",
       " 'have',\n",
       " 'impact',\n",
       " 'on',\n",
       " 'these',\n",
       " 'elements.',\n",
       " 'Other',\n",
       " 'broad',\n",
       " 'distinctions',\n",
       " 'within',\n",
       " 'economics',\n",
       " 'include',\n",
       " 'those',\n",
       " 'between',\n",
       " 'positive',\n",
       " 'economics,',\n",
       " 'describing',\n",
       " '\"what',\n",
       " 'is\",',\n",
       " 'and',\n",
       " 'normative',\n",
       " 'economics,',\n",
       " 'advocating',\n",
       " '\"what',\n",
       " 'ought',\n",
       " 'to',\n",
       " 'be\";[4]',\n",
       " 'between',\n",
       " 'economic',\n",
       " 'theory',\n",
       " 'and',\n",
       " 'applied',\n",
       " 'economics;',\n",
       " 'between',\n",
       " 'rational',\n",
       " 'and',\n",
       " 'behavioural',\n",
       " 'economics;',\n",
       " 'and',\n",
       " 'between',\n",
       " 'mainstream',\n",
       " 'economics',\n",
       " 'and',\n",
       " 'heterodox',\n",
       " 'economics.[5]',\n",
       " 'Economic',\n",
       " 'analysis',\n",
       " 'can',\n",
       " 'be',\n",
       " 'applied',\n",
       " 'throughout',\n",
       " 'society,',\n",
       " 'including',\n",
       " 'business,[6]',\n",
       " 'finance,',\n",
       " 'cybersecurity,[7]',\n",
       " 'health',\n",
       " 'care,[8]',\n",
       " 'engineering[9]',\n",
       " 'and',\n",
       " 'government.[10]',\n",
       " 'It',\n",
       " 'is',\n",
       " 'also',\n",
       " 'applied',\n",
       " 'to',\n",
       " 'such',\n",
       " 'diverse',\n",
       " 'subjects',\n",
       " 'as',\n",
       " 'crime,[11]',\n",
       " 'education,[12]',\n",
       " 'the',\n",
       " 'family,[13]',\n",
       " 'feminism,[14]',\n",
       " 'law,[15]',\n",
       " 'philosophy,[16]',\n",
       " 'politics,',\n",
       " 'religion,[17]',\n",
       " 'social',\n",
       " 'institutions,',\n",
       " 'war,[18]',\n",
       " 'science,[19]',\n",
       " 'and',\n",
       " 'the',\n",
       " 'environment.[20]']"
      ]
     },
     "execution_count": 15,
     "metadata": {},
     "output_type": "execute_result"
    }
   ],
   "source": [
    "tokens"
   ]
  },
  {
   "cell_type": "code",
   "execution_count": 19,
   "id": "9414ec27",
   "metadata": {},
   "outputs": [],
   "source": [
    "# think about a few things\n",
    "# if you were interested in knowing which topics were discussed in this passage\n",
    "# how well would this list of tokens work for you?\n",
    "# what problems might happen?\n",
    "# if you wanted to know how many times a particular topic is mentioned\n",
    "# spend 5 minutes looking through it, until 9:38"
   ]
  },
  {
   "cell_type": "code",
   "execution_count": 20,
   "id": "a4cc1ea7",
   "metadata": {},
   "outputs": [],
   "source": [
    "# some ideas\n",
    "# n-grams\n",
    "# I might not want 'a', 'the', 'and'\n",
    "# we might have trouble with non-alphanumeric characters like services.[2][3]\n",
    "# does capitalization matter?  Economics vs economics\n",
    "# do we want to stem or lemmatize words? (economics, economy, economist, economical)?"
   ]
  },
  {
   "cell_type": "code",
   "execution_count": 26,
   "id": "210bfe19",
   "metadata": {},
   "outputs": [
    {
     "name": "stdout",
     "output_type": "stream",
     "text": [
      "economics\n",
      "(/ˌɛkəˈnɒmɪks,\n",
      "ˌiːkə-/)[1]\n",
      "is\n",
      "a\n",
      "social\n",
      "science\n",
      "that\n",
      "studies\n",
      "the\n",
      "production,\n",
      "distribution,\n",
      "and\n",
      "consumption\n",
      "of\n",
      "goods\n",
      "and\n",
      "services.[2][3]\n",
      "economics\n",
      "focuses\n",
      "on\n",
      "the\n",
      "behaviour\n",
      "and\n",
      "interactions\n",
      "of\n",
      "economic\n",
      "agents\n",
      "and\n",
      "how\n",
      "economies\n",
      "work.\n",
      "microeconomics\n",
      "analyzes\n",
      "what's\n",
      "viewed\n",
      "as\n",
      "basic\n",
      "elements\n",
      "in\n",
      "the\n",
      "economy,\n",
      "including\n",
      "individual\n",
      "agents\n",
      "and\n",
      "markets,\n",
      "their\n",
      "interactions,\n",
      "and\n",
      "the\n",
      "outcomes\n",
      "of\n",
      "interactions.\n",
      "individual\n",
      "agents\n",
      "may\n",
      "include,\n",
      "for\n",
      "example,\n",
      "households,\n",
      "firms,\n",
      "buyers,\n",
      "and\n",
      "sellers.\n",
      "macroeconomics\n",
      "analyzes\n",
      "the\n",
      "economy\n",
      "as\n",
      "a\n",
      "system\n",
      "where\n",
      "production,\n",
      "consumption,\n",
      "saving,\n",
      "and\n",
      "investment\n",
      "interact,\n",
      "and\n",
      "factors\n",
      "affecting\n",
      "it:\n",
      "employment\n",
      "of\n",
      "the\n",
      "resources\n",
      "of\n",
      "labour,\n",
      "capital,\n",
      "and\n",
      "land,\n",
      "currency\n",
      "inflation,\n",
      "economic\n",
      "growth,\n",
      "and\n",
      "public\n",
      "policies\n",
      "that\n",
      "have\n",
      "impact\n",
      "on\n",
      "these\n",
      "elements.\n",
      "other\n",
      "broad\n",
      "distinctions\n",
      "within\n",
      "economics\n",
      "include\n",
      "those\n",
      "between\n",
      "positive\n",
      "economics,\n",
      "describing\n",
      "\"what\n",
      "is\",\n",
      "and\n",
      "normative\n",
      "economics,\n",
      "advocating\n",
      "\"what\n",
      "ought\n",
      "to\n",
      "be\";[4]\n",
      "between\n",
      "economic\n",
      "theory\n",
      "and\n",
      "applied\n",
      "economics;\n",
      "between\n",
      "rational\n",
      "and\n",
      "behavioural\n",
      "economics;\n",
      "and\n",
      "between\n",
      "mainstream\n",
      "economics\n",
      "and\n",
      "heterodox\n",
      "economics.[5]\n",
      "economic\n",
      "analysis\n",
      "can\n",
      "be\n",
      "applied\n",
      "throughout\n",
      "society,\n",
      "including\n",
      "business,[6]\n",
      "finance,\n",
      "cybersecurity,[7]\n",
      "health\n",
      "care,[8]\n",
      "engineering[9]\n",
      "and\n",
      "government.[10]\n",
      "it\n",
      "is\n",
      "also\n",
      "applied\n",
      "to\n",
      "such\n",
      "diverse\n",
      "subjects\n",
      "as\n",
      "crime,[11]\n",
      "education,[12]\n",
      "the\n",
      "family,[13]\n",
      "feminism,[14]\n",
      "law,[15]\n",
      "philosophy,[16]\n",
      "politics,\n",
      "religion,[17]\n",
      "social\n",
      "institutions,\n",
      "war,[18]\n",
      "science,[19]\n",
      "and\n",
      "the\n",
      "environment.[20]\n"
     ]
    }
   ],
   "source": [
    "for w in tokens:\n",
    "    print(w.lower())"
   ]
  },
  {
   "cell_type": "code",
   "execution_count": 22,
   "id": "52eb8e77",
   "metadata": {},
   "outputs": [],
   "source": [
    "a_word = \"HeLlO\""
   ]
  },
  {
   "cell_type": "code",
   "execution_count": 25,
   "id": "b60c8fc6",
   "metadata": {},
   "outputs": [
    {
     "data": {
      "text/plain": [
       "'hello'"
      ]
     },
     "execution_count": 25,
     "metadata": {},
     "output_type": "execute_result"
    }
   ],
   "source": [
    "a_word.lower()"
   ]
  },
  {
   "cell_type": "code",
   "execution_count": 27,
   "id": "93481c01",
   "metadata": {},
   "outputs": [],
   "source": [
    "lower_case = []\n",
    "for w in tokens:\n",
    "    lower_case.append(w.lower())"
   ]
  },
  {
   "cell_type": "code",
   "execution_count": 28,
   "id": "32cec874",
   "metadata": {},
   "outputs": [
    {
     "data": {
      "text/plain": [
       "['economics',\n",
       " '(/ˌɛkəˈnɒmɪks,',\n",
       " 'ˌiːkə-/)[1]',\n",
       " 'is',\n",
       " 'a',\n",
       " 'social',\n",
       " 'science',\n",
       " 'that',\n",
       " 'studies',\n",
       " 'the',\n",
       " 'production,',\n",
       " 'distribution,',\n",
       " 'and',\n",
       " 'consumption',\n",
       " 'of',\n",
       " 'goods',\n",
       " 'and',\n",
       " 'services.[2][3]',\n",
       " 'economics',\n",
       " 'focuses',\n",
       " 'on',\n",
       " 'the',\n",
       " 'behaviour',\n",
       " 'and',\n",
       " 'interactions',\n",
       " 'of',\n",
       " 'economic',\n",
       " 'agents',\n",
       " 'and',\n",
       " 'how',\n",
       " 'economies',\n",
       " 'work.',\n",
       " 'microeconomics',\n",
       " 'analyzes',\n",
       " \"what's\",\n",
       " 'viewed',\n",
       " 'as',\n",
       " 'basic',\n",
       " 'elements',\n",
       " 'in',\n",
       " 'the',\n",
       " 'economy,',\n",
       " 'including',\n",
       " 'individual',\n",
       " 'agents',\n",
       " 'and',\n",
       " 'markets,',\n",
       " 'their',\n",
       " 'interactions,',\n",
       " 'and',\n",
       " 'the',\n",
       " 'outcomes',\n",
       " 'of',\n",
       " 'interactions.',\n",
       " 'individual',\n",
       " 'agents',\n",
       " 'may',\n",
       " 'include,',\n",
       " 'for',\n",
       " 'example,',\n",
       " 'households,',\n",
       " 'firms,',\n",
       " 'buyers,',\n",
       " 'and',\n",
       " 'sellers.',\n",
       " 'macroeconomics',\n",
       " 'analyzes',\n",
       " 'the',\n",
       " 'economy',\n",
       " 'as',\n",
       " 'a',\n",
       " 'system',\n",
       " 'where',\n",
       " 'production,',\n",
       " 'consumption,',\n",
       " 'saving,',\n",
       " 'and',\n",
       " 'investment',\n",
       " 'interact,',\n",
       " 'and',\n",
       " 'factors',\n",
       " 'affecting',\n",
       " 'it:',\n",
       " 'employment',\n",
       " 'of',\n",
       " 'the',\n",
       " 'resources',\n",
       " 'of',\n",
       " 'labour,',\n",
       " 'capital,',\n",
       " 'and',\n",
       " 'land,',\n",
       " 'currency',\n",
       " 'inflation,',\n",
       " 'economic',\n",
       " 'growth,',\n",
       " 'and',\n",
       " 'public',\n",
       " 'policies',\n",
       " 'that',\n",
       " 'have',\n",
       " 'impact',\n",
       " 'on',\n",
       " 'these',\n",
       " 'elements.',\n",
       " 'other',\n",
       " 'broad',\n",
       " 'distinctions',\n",
       " 'within',\n",
       " 'economics',\n",
       " 'include',\n",
       " 'those',\n",
       " 'between',\n",
       " 'positive',\n",
       " 'economics,',\n",
       " 'describing',\n",
       " '\"what',\n",
       " 'is\",',\n",
       " 'and',\n",
       " 'normative',\n",
       " 'economics,',\n",
       " 'advocating',\n",
       " '\"what',\n",
       " 'ought',\n",
       " 'to',\n",
       " 'be\";[4]',\n",
       " 'between',\n",
       " 'economic',\n",
       " 'theory',\n",
       " 'and',\n",
       " 'applied',\n",
       " 'economics;',\n",
       " 'between',\n",
       " 'rational',\n",
       " 'and',\n",
       " 'behavioural',\n",
       " 'economics;',\n",
       " 'and',\n",
       " 'between',\n",
       " 'mainstream',\n",
       " 'economics',\n",
       " 'and',\n",
       " 'heterodox',\n",
       " 'economics.[5]',\n",
       " 'economic',\n",
       " 'analysis',\n",
       " 'can',\n",
       " 'be',\n",
       " 'applied',\n",
       " 'throughout',\n",
       " 'society,',\n",
       " 'including',\n",
       " 'business,[6]',\n",
       " 'finance,',\n",
       " 'cybersecurity,[7]',\n",
       " 'health',\n",
       " 'care,[8]',\n",
       " 'engineering[9]',\n",
       " 'and',\n",
       " 'government.[10]',\n",
       " 'it',\n",
       " 'is',\n",
       " 'also',\n",
       " 'applied',\n",
       " 'to',\n",
       " 'such',\n",
       " 'diverse',\n",
       " 'subjects',\n",
       " 'as',\n",
       " 'crime,[11]',\n",
       " 'education,[12]',\n",
       " 'the',\n",
       " 'family,[13]',\n",
       " 'feminism,[14]',\n",
       " 'law,[15]',\n",
       " 'philosophy,[16]',\n",
       " 'politics,',\n",
       " 'religion,[17]',\n",
       " 'social',\n",
       " 'institutions,',\n",
       " 'war,[18]',\n",
       " 'science,[19]',\n",
       " 'and',\n",
       " 'the',\n",
       " 'environment.[20]']"
      ]
     },
     "execution_count": 28,
     "metadata": {},
     "output_type": "execute_result"
    }
   ],
   "source": [
    "lower_case"
   ]
  },
  {
   "cell_type": "code",
   "execution_count": 29,
   "id": "bf5eaaf1",
   "metadata": {},
   "outputs": [],
   "source": [
    "lc_alt = [w.lower() for w in tokens]"
   ]
  },
  {
   "cell_type": "code",
   "execution_count": 30,
   "id": "bdfc0bcc",
   "metadata": {},
   "outputs": [
    {
     "data": {
      "text/plain": [
       "['economics',\n",
       " '(/ˌɛkəˈnɒmɪks,',\n",
       " 'ˌiːkə-/)[1]',\n",
       " 'is',\n",
       " 'a',\n",
       " 'social',\n",
       " 'science',\n",
       " 'that',\n",
       " 'studies',\n",
       " 'the',\n",
       " 'production,',\n",
       " 'distribution,',\n",
       " 'and',\n",
       " 'consumption',\n",
       " 'of',\n",
       " 'goods',\n",
       " 'and',\n",
       " 'services.[2][3]',\n",
       " 'economics',\n",
       " 'focuses',\n",
       " 'on',\n",
       " 'the',\n",
       " 'behaviour',\n",
       " 'and',\n",
       " 'interactions',\n",
       " 'of',\n",
       " 'economic',\n",
       " 'agents',\n",
       " 'and',\n",
       " 'how',\n",
       " 'economies',\n",
       " 'work.',\n",
       " 'microeconomics',\n",
       " 'analyzes',\n",
       " \"what's\",\n",
       " 'viewed',\n",
       " 'as',\n",
       " 'basic',\n",
       " 'elements',\n",
       " 'in',\n",
       " 'the',\n",
       " 'economy,',\n",
       " 'including',\n",
       " 'individual',\n",
       " 'agents',\n",
       " 'and',\n",
       " 'markets,',\n",
       " 'their',\n",
       " 'interactions,',\n",
       " 'and',\n",
       " 'the',\n",
       " 'outcomes',\n",
       " 'of',\n",
       " 'interactions.',\n",
       " 'individual',\n",
       " 'agents',\n",
       " 'may',\n",
       " 'include,',\n",
       " 'for',\n",
       " 'example,',\n",
       " 'households,',\n",
       " 'firms,',\n",
       " 'buyers,',\n",
       " 'and',\n",
       " 'sellers.',\n",
       " 'macroeconomics',\n",
       " 'analyzes',\n",
       " 'the',\n",
       " 'economy',\n",
       " 'as',\n",
       " 'a',\n",
       " 'system',\n",
       " 'where',\n",
       " 'production,',\n",
       " 'consumption,',\n",
       " 'saving,',\n",
       " 'and',\n",
       " 'investment',\n",
       " 'interact,',\n",
       " 'and',\n",
       " 'factors',\n",
       " 'affecting',\n",
       " 'it:',\n",
       " 'employment',\n",
       " 'of',\n",
       " 'the',\n",
       " 'resources',\n",
       " 'of',\n",
       " 'labour,',\n",
       " 'capital,',\n",
       " 'and',\n",
       " 'land,',\n",
       " 'currency',\n",
       " 'inflation,',\n",
       " 'economic',\n",
       " 'growth,',\n",
       " 'and',\n",
       " 'public',\n",
       " 'policies',\n",
       " 'that',\n",
       " 'have',\n",
       " 'impact',\n",
       " 'on',\n",
       " 'these',\n",
       " 'elements.',\n",
       " 'other',\n",
       " 'broad',\n",
       " 'distinctions',\n",
       " 'within',\n",
       " 'economics',\n",
       " 'include',\n",
       " 'those',\n",
       " 'between',\n",
       " 'positive',\n",
       " 'economics,',\n",
       " 'describing',\n",
       " '\"what',\n",
       " 'is\",',\n",
       " 'and',\n",
       " 'normative',\n",
       " 'economics,',\n",
       " 'advocating',\n",
       " '\"what',\n",
       " 'ought',\n",
       " 'to',\n",
       " 'be\";[4]',\n",
       " 'between',\n",
       " 'economic',\n",
       " 'theory',\n",
       " 'and',\n",
       " 'applied',\n",
       " 'economics;',\n",
       " 'between',\n",
       " 'rational',\n",
       " 'and',\n",
       " 'behavioural',\n",
       " 'economics;',\n",
       " 'and',\n",
       " 'between',\n",
       " 'mainstream',\n",
       " 'economics',\n",
       " 'and',\n",
       " 'heterodox',\n",
       " 'economics.[5]',\n",
       " 'economic',\n",
       " 'analysis',\n",
       " 'can',\n",
       " 'be',\n",
       " 'applied',\n",
       " 'throughout',\n",
       " 'society,',\n",
       " 'including',\n",
       " 'business,[6]',\n",
       " 'finance,',\n",
       " 'cybersecurity,[7]',\n",
       " 'health',\n",
       " 'care,[8]',\n",
       " 'engineering[9]',\n",
       " 'and',\n",
       " 'government.[10]',\n",
       " 'it',\n",
       " 'is',\n",
       " 'also',\n",
       " 'applied',\n",
       " 'to',\n",
       " 'such',\n",
       " 'diverse',\n",
       " 'subjects',\n",
       " 'as',\n",
       " 'crime,[11]',\n",
       " 'education,[12]',\n",
       " 'the',\n",
       " 'family,[13]',\n",
       " 'feminism,[14]',\n",
       " 'law,[15]',\n",
       " 'philosophy,[16]',\n",
       " 'politics,',\n",
       " 'religion,[17]',\n",
       " 'social',\n",
       " 'institutions,',\n",
       " 'war,[18]',\n",
       " 'science,[19]',\n",
       " 'and',\n",
       " 'the',\n",
       " 'environment.[20]']"
      ]
     },
     "execution_count": 30,
     "metadata": {},
     "output_type": "execute_result"
    }
   ],
   "source": [
    "lc_alt"
   ]
  },
  {
   "cell_type": "code",
   "execution_count": 31,
   "id": "e5547d73",
   "metadata": {},
   "outputs": [],
   "source": [
    "# remove non-alphanumeric chars from a string"
   ]
  },
  {
   "cell_type": "code",
   "execution_count": 46,
   "id": "4024b5d7",
   "metadata": {},
   "outputs": [],
   "source": [
    "a_website = \"services.[2][3]\""
   ]
  },
  {
   "cell_type": "code",
   "execution_count": 47,
   "id": "b456710e",
   "metadata": {},
   "outputs": [],
   "source": [
    "import re"
   ]
  },
  {
   "cell_type": "code",
   "execution_count": 48,
   "id": "cfa754f6",
   "metadata": {},
   "outputs": [
    {
     "data": {
      "text/plain": [
       "'services23'"
      ]
     },
     "execution_count": 48,
     "metadata": {},
     "output_type": "execute_result"
    }
   ],
   "source": [
    "re.sub(r'\\W+', '', a_website)"
   ]
  },
  {
   "cell_type": "code",
   "execution_count": 49,
   "id": "ba30982a",
   "metadata": {},
   "outputs": [],
   "source": [
    "regex = re.compile('[^a-zA-Z]')"
   ]
  },
  {
   "cell_type": "code",
   "execution_count": 52,
   "id": "dc6cc80d",
   "metadata": {},
   "outputs": [],
   "source": [
    "only_alpha = regex.sub('', a_website)"
   ]
  },
  {
   "cell_type": "code",
   "execution_count": 53,
   "id": "8bcc8e93",
   "metadata": {},
   "outputs": [
    {
     "data": {
      "text/plain": [
       "'services'"
      ]
     },
     "execution_count": 53,
     "metadata": {},
     "output_type": "execute_result"
    }
   ],
   "source": [
    "only_alpha"
   ]
  },
  {
   "cell_type": "code",
   "execution_count": 54,
   "id": "de00211c",
   "metadata": {},
   "outputs": [
    {
     "data": {
      "text/plain": [
       "'services'"
      ]
     },
     "execution_count": 54,
     "metadata": {},
     "output_type": "execute_result"
    }
   ],
   "source": [
    "re.sub(r'[^a-zA-Z]', '', a_website)"
   ]
  },
  {
   "cell_type": "code",
   "execution_count": 55,
   "id": "f05d2371",
   "metadata": {},
   "outputs": [],
   "source": [
    "alpha_only = []\n",
    "for w in lower_case:\n",
    "    alpha_only.append(re.sub(r'[^a-zA-Z]', '', w))"
   ]
  },
  {
   "cell_type": "code",
   "execution_count": 56,
   "id": "aeba05d5",
   "metadata": {},
   "outputs": [
    {
     "data": {
      "text/plain": [
       "['economics',\n",
       " 'knmks',\n",
       " 'ik',\n",
       " 'is',\n",
       " 'a',\n",
       " 'social',\n",
       " 'science',\n",
       " 'that',\n",
       " 'studies',\n",
       " 'the',\n",
       " 'production',\n",
       " 'distribution',\n",
       " 'and',\n",
       " 'consumption',\n",
       " 'of',\n",
       " 'goods',\n",
       " 'and',\n",
       " 'services',\n",
       " 'economics',\n",
       " 'focuses',\n",
       " 'on',\n",
       " 'the',\n",
       " 'behaviour',\n",
       " 'and',\n",
       " 'interactions',\n",
       " 'of',\n",
       " 'economic',\n",
       " 'agents',\n",
       " 'and',\n",
       " 'how',\n",
       " 'economies',\n",
       " 'work',\n",
       " 'microeconomics',\n",
       " 'analyzes',\n",
       " 'whats',\n",
       " 'viewed',\n",
       " 'as',\n",
       " 'basic',\n",
       " 'elements',\n",
       " 'in',\n",
       " 'the',\n",
       " 'economy',\n",
       " 'including',\n",
       " 'individual',\n",
       " 'agents',\n",
       " 'and',\n",
       " 'markets',\n",
       " 'their',\n",
       " 'interactions',\n",
       " 'and',\n",
       " 'the',\n",
       " 'outcomes',\n",
       " 'of',\n",
       " 'interactions',\n",
       " 'individual',\n",
       " 'agents',\n",
       " 'may',\n",
       " 'include',\n",
       " 'for',\n",
       " 'example',\n",
       " 'households',\n",
       " 'firms',\n",
       " 'buyers',\n",
       " 'and',\n",
       " 'sellers',\n",
       " 'macroeconomics',\n",
       " 'analyzes',\n",
       " 'the',\n",
       " 'economy',\n",
       " 'as',\n",
       " 'a',\n",
       " 'system',\n",
       " 'where',\n",
       " 'production',\n",
       " 'consumption',\n",
       " 'saving',\n",
       " 'and',\n",
       " 'investment',\n",
       " 'interact',\n",
       " 'and',\n",
       " 'factors',\n",
       " 'affecting',\n",
       " 'it',\n",
       " 'employment',\n",
       " 'of',\n",
       " 'the',\n",
       " 'resources',\n",
       " 'of',\n",
       " 'labour',\n",
       " 'capital',\n",
       " 'and',\n",
       " 'land',\n",
       " 'currency',\n",
       " 'inflation',\n",
       " 'economic',\n",
       " 'growth',\n",
       " 'and',\n",
       " 'public',\n",
       " 'policies',\n",
       " 'that',\n",
       " 'have',\n",
       " 'impact',\n",
       " 'on',\n",
       " 'these',\n",
       " 'elements',\n",
       " 'other',\n",
       " 'broad',\n",
       " 'distinctions',\n",
       " 'within',\n",
       " 'economics',\n",
       " 'include',\n",
       " 'those',\n",
       " 'between',\n",
       " 'positive',\n",
       " 'economics',\n",
       " 'describing',\n",
       " 'what',\n",
       " 'is',\n",
       " 'and',\n",
       " 'normative',\n",
       " 'economics',\n",
       " 'advocating',\n",
       " 'what',\n",
       " 'ought',\n",
       " 'to',\n",
       " 'be',\n",
       " 'between',\n",
       " 'economic',\n",
       " 'theory',\n",
       " 'and',\n",
       " 'applied',\n",
       " 'economics',\n",
       " 'between',\n",
       " 'rational',\n",
       " 'and',\n",
       " 'behavioural',\n",
       " 'economics',\n",
       " 'and',\n",
       " 'between',\n",
       " 'mainstream',\n",
       " 'economics',\n",
       " 'and',\n",
       " 'heterodox',\n",
       " 'economics',\n",
       " 'economic',\n",
       " 'analysis',\n",
       " 'can',\n",
       " 'be',\n",
       " 'applied',\n",
       " 'throughout',\n",
       " 'society',\n",
       " 'including',\n",
       " 'business',\n",
       " 'finance',\n",
       " 'cybersecurity',\n",
       " 'health',\n",
       " 'care',\n",
       " 'engineering',\n",
       " 'and',\n",
       " 'government',\n",
       " 'it',\n",
       " 'is',\n",
       " 'also',\n",
       " 'applied',\n",
       " 'to',\n",
       " 'such',\n",
       " 'diverse',\n",
       " 'subjects',\n",
       " 'as',\n",
       " 'crime',\n",
       " 'education',\n",
       " 'the',\n",
       " 'family',\n",
       " 'feminism',\n",
       " 'law',\n",
       " 'philosophy',\n",
       " 'politics',\n",
       " 'religion',\n",
       " 'social',\n",
       " 'institutions',\n",
       " 'war',\n",
       " 'science',\n",
       " 'and',\n",
       " 'the',\n",
       " 'environment']"
      ]
     },
     "execution_count": 56,
     "metadata": {},
     "output_type": "execute_result"
    }
   ],
   "source": [
    "alpha_only"
   ]
  },
  {
   "cell_type": "code",
   "execution_count": 63,
   "id": "8b828631",
   "metadata": {},
   "outputs": [],
   "source": [
    "#!pip install nltk\n",
    "#remove stopwords\n",
    "import nltk\n",
    "from nltk.corpus import stopwords"
   ]
  },
  {
   "cell_type": "code",
   "execution_count": 61,
   "id": "df7c7876",
   "metadata": {},
   "outputs": [
    {
     "name": "stderr",
     "output_type": "stream",
     "text": [
      "[nltk_data] Downloading package stopwords to /Users/nms-\n",
      "[nltk_data]     workshop/nltk_data...\n",
      "[nltk_data]   Unzipping corpora/stopwords.zip.\n"
     ]
    },
    {
     "data": {
      "text/plain": [
       "True"
      ]
     },
     "execution_count": 61,
     "metadata": {},
     "output_type": "execute_result"
    }
   ],
   "source": [
    "nltk.download('stopwords')"
   ]
  },
  {
   "cell_type": "code",
   "execution_count": 64,
   "id": "62da2a01",
   "metadata": {},
   "outputs": [],
   "source": [
    "stop = stopwords.words('english')"
   ]
  },
  {
   "cell_type": "code",
   "execution_count": 66,
   "id": "1dcb94a0",
   "metadata": {},
   "outputs": [
    {
     "data": {
      "text/plain": [
       "179"
      ]
     },
     "execution_count": 66,
     "metadata": {},
     "output_type": "execute_result"
    }
   ],
   "source": [
    "len(stop)"
   ]
  },
  {
   "cell_type": "code",
   "execution_count": 67,
   "id": "80d60bb3",
   "metadata": {},
   "outputs": [],
   "source": [
    "no_stopwords = []\n",
    "for w in alpha_only:\n",
    "    if w not in stop:\n",
    "        no_stopwords.append(w)"
   ]
  },
  {
   "cell_type": "code",
   "execution_count": 68,
   "id": "ec62bdc5",
   "metadata": {},
   "outputs": [
    {
     "data": {
      "text/plain": [
       "['economics',\n",
       " 'knmks',\n",
       " 'ik',\n",
       " 'social',\n",
       " 'science',\n",
       " 'studies',\n",
       " 'production',\n",
       " 'distribution',\n",
       " 'consumption',\n",
       " 'goods',\n",
       " 'services',\n",
       " 'economics',\n",
       " 'focuses',\n",
       " 'behaviour',\n",
       " 'interactions',\n",
       " 'economic',\n",
       " 'agents',\n",
       " 'economies',\n",
       " 'work',\n",
       " 'microeconomics',\n",
       " 'analyzes',\n",
       " 'whats',\n",
       " 'viewed',\n",
       " 'basic',\n",
       " 'elements',\n",
       " 'economy',\n",
       " 'including',\n",
       " 'individual',\n",
       " 'agents',\n",
       " 'markets',\n",
       " 'interactions',\n",
       " 'outcomes',\n",
       " 'interactions',\n",
       " 'individual',\n",
       " 'agents',\n",
       " 'may',\n",
       " 'include',\n",
       " 'example',\n",
       " 'households',\n",
       " 'firms',\n",
       " 'buyers',\n",
       " 'sellers',\n",
       " 'macroeconomics',\n",
       " 'analyzes',\n",
       " 'economy',\n",
       " 'system',\n",
       " 'production',\n",
       " 'consumption',\n",
       " 'saving',\n",
       " 'investment',\n",
       " 'interact',\n",
       " 'factors',\n",
       " 'affecting',\n",
       " 'employment',\n",
       " 'resources',\n",
       " 'labour',\n",
       " 'capital',\n",
       " 'land',\n",
       " 'currency',\n",
       " 'inflation',\n",
       " 'economic',\n",
       " 'growth',\n",
       " 'public',\n",
       " 'policies',\n",
       " 'impact',\n",
       " 'elements',\n",
       " 'broad',\n",
       " 'distinctions',\n",
       " 'within',\n",
       " 'economics',\n",
       " 'include',\n",
       " 'positive',\n",
       " 'economics',\n",
       " 'describing',\n",
       " 'normative',\n",
       " 'economics',\n",
       " 'advocating',\n",
       " 'ought',\n",
       " 'economic',\n",
       " 'theory',\n",
       " 'applied',\n",
       " 'economics',\n",
       " 'rational',\n",
       " 'behavioural',\n",
       " 'economics',\n",
       " 'mainstream',\n",
       " 'economics',\n",
       " 'heterodox',\n",
       " 'economics',\n",
       " 'economic',\n",
       " 'analysis',\n",
       " 'applied',\n",
       " 'throughout',\n",
       " 'society',\n",
       " 'including',\n",
       " 'business',\n",
       " 'finance',\n",
       " 'cybersecurity',\n",
       " 'health',\n",
       " 'care',\n",
       " 'engineering',\n",
       " 'government',\n",
       " 'also',\n",
       " 'applied',\n",
       " 'diverse',\n",
       " 'subjects',\n",
       " 'crime',\n",
       " 'education',\n",
       " 'family',\n",
       " 'feminism',\n",
       " 'law',\n",
       " 'philosophy',\n",
       " 'politics',\n",
       " 'religion',\n",
       " 'social',\n",
       " 'institutions',\n",
       " 'war',\n",
       " 'science',\n",
       " 'environment']"
      ]
     },
     "execution_count": 68,
     "metadata": {},
     "output_type": "execute_result"
    }
   ],
   "source": [
    "no_stopwords"
   ]
  },
  {
   "cell_type": "code",
   "execution_count": 74,
   "id": "de7fcf88",
   "metadata": {},
   "outputs": [
    {
     "data": {
      "text/plain": [
       "'economics knmks ik social science studies production distribution consumption goods services economics focuses behaviour interactions economic agents economies work microeconomics analyzes whats viewed basic elements economy including individual agents markets interactions outcomes interactions individual agents may include example households firms buyers sellers macroeconomics analyzes economy system production consumption saving investment interact factors affecting employment resources labour capital land currency inflation economic growth public policies impact elements broad distinctions within economics include positive economics describing normative economics advocating ought economic theory applied economics rational behavioural economics mainstream economics heterodox economics economic analysis applied throughout society including business finance cybersecurity health care engineering government also applied diverse subjects crime education family feminism law philosophy politics religion social institutions war science environment'"
      ]
     },
     "execution_count": 74,
     "metadata": {},
     "output_type": "execute_result"
    }
   ],
   "source": [
    "' '.join(no_stopwords)"
   ]
  },
  {
   "cell_type": "code",
   "execution_count": 75,
   "id": "6eb2827a",
   "metadata": {},
   "outputs": [],
   "source": [
    "# take a 10 min break, and we'll resume at 10:35"
   ]
  },
  {
   "cell_type": "code",
   "execution_count": 77,
   "id": "11a5ffaa",
   "metadata": {},
   "outputs": [
    {
     "name": "stderr",
     "output_type": "stream",
     "text": [
      "[nltk_data] Downloading package wordnet to /Users/nms-\n",
      "[nltk_data]     workshop/nltk_data...\n"
     ]
    },
    {
     "data": {
      "text/plain": [
       "True"
      ]
     },
     "execution_count": 77,
     "metadata": {},
     "output_type": "execute_result"
    }
   ],
   "source": [
    "from nltk.stem.porter import PorterStemmer\n",
    "from nltk.stem import WordNetLemmatizer\n",
    "\n",
    "nltk.download('wordnet')"
   ]
  },
  {
   "cell_type": "code",
   "execution_count": 83,
   "id": "92702b13",
   "metadata": {},
   "outputs": [
    {
     "name": "stderr",
     "output_type": "stream",
     "text": [
      "[nltk_data] Downloading package omw-1.4 to /Users/nms-\n",
      "[nltk_data]     workshop/nltk_data...\n"
     ]
    },
    {
     "data": {
      "text/plain": [
       "True"
      ]
     },
     "execution_count": 83,
     "metadata": {},
     "output_type": "execute_result"
    }
   ],
   "source": [
    "nltk.download('omw-1.4')"
   ]
  },
  {
   "cell_type": "code",
   "execution_count": 80,
   "id": "5c364944",
   "metadata": {},
   "outputs": [],
   "source": [
    "stemmer = PorterStemmer()\n",
    "lemmatizer = WordNetLemmatizer()"
   ]
  },
  {
   "cell_type": "code",
   "execution_count": 90,
   "id": "61a2f002",
   "metadata": {},
   "outputs": [],
   "source": [
    "word_1 = \"narrators\"\n",
    "word_2 = \"narration\"\n",
    "word_3 = \"narrative\"\n",
    "word_4 = \"narrator\""
   ]
  },
  {
   "cell_type": "code",
   "execution_count": 91,
   "id": "0358a217",
   "metadata": {},
   "outputs": [
    {
     "name": "stdout",
     "output_type": "stream",
     "text": [
      "narrat\n",
      "narrat\n",
      "narr\n",
      "narrat\n"
     ]
    }
   ],
   "source": [
    "print(stemmer.stem(word_1))\n",
    "print(stemmer.stem(word_2))\n",
    "print(stemmer.stem(word_3))\n",
    "print(stemmer.stem(word_4))"
   ]
  },
  {
   "cell_type": "code",
   "execution_count": 92,
   "id": "6acd997b",
   "metadata": {},
   "outputs": [
    {
     "name": "stdout",
     "output_type": "stream",
     "text": [
      "narrator\n",
      "narration\n",
      "narrative\n",
      "narrator\n"
     ]
    }
   ],
   "source": [
    "print(lemmatizer.lemmatize(word_1))\n",
    "print(lemmatizer.lemmatize(word_2))\n",
    "print(lemmatizer.lemmatize(word_3))\n",
    "print(lemmatizer.lemmatize(word_4))"
   ]
  },
  {
   "cell_type": "code",
   "execution_count": 93,
   "id": "2da7f9e5",
   "metadata": {},
   "outputs": [],
   "source": [
    "# take 5 minutes to explore some other words that may be interesting to you\n",
    "# and see how the stemmer and lemmatizer works on them\n",
    "# resume at 10:51"
   ]
  },
  {
   "cell_type": "code",
   "execution_count": 96,
   "id": "c49a4206",
   "metadata": {},
   "outputs": [],
   "source": [
    "stemmed_text = []\n",
    "lemmatized_text = []\n",
    "\n",
    "for w in no_stopwords:\n",
    "    stemmed_text.append(stemmer.stem(w))\n",
    "    lemmatized_text.append(lemmatizer.lemmatize(w))"
   ]
  },
  {
   "cell_type": "code",
   "execution_count": 97,
   "id": "73772e65",
   "metadata": {},
   "outputs": [
    {
     "data": {
      "text/plain": [
       "'econom knmk ik social scienc studi product distribut consumpt good servic econom focus behaviour interact econom agent economi work microeconom analyz what view basic element economi includ individu agent market interact outcom interact individu agent may includ exampl household firm buyer seller macroeconom analyz economi system product consumpt save invest interact factor affect employ resourc labour capit land currenc inflat econom growth public polici impact element broad distinct within econom includ posit econom describ norm econom advoc ought econom theori appli econom ration behaviour econom mainstream econom heterodox econom econom analysi appli throughout societi includ busi financ cybersecur health care engin govern also appli divers subject crime educ famili femin law philosophi polit religion social institut war scienc environ'"
      ]
     },
     "execution_count": 97,
     "metadata": {},
     "output_type": "execute_result"
    }
   ],
   "source": [
    "' '.join(stemmed_text)"
   ]
  },
  {
   "cell_type": "code",
   "execution_count": 98,
   "id": "a364c832",
   "metadata": {},
   "outputs": [
    {
     "data": {
      "text/plain": [
       "'economics knmks ik social science study production distribution consumption good service economics focus behaviour interaction economic agent economy work microeconomics analyzes whats viewed basic element economy including individual agent market interaction outcome interaction individual agent may include example household firm buyer seller macroeconomics analyzes economy system production consumption saving investment interact factor affecting employment resource labour capital land currency inflation economic growth public policy impact element broad distinction within economics include positive economics describing normative economics advocating ought economic theory applied economics rational behavioural economics mainstream economics heterodox economics economic analysis applied throughout society including business finance cybersecurity health care engineering government also applied diverse subject crime education family feminism law philosophy politics religion social institution war science environment'"
      ]
     },
     "execution_count": 98,
     "metadata": {},
     "output_type": "execute_result"
    }
   ],
   "source": [
    "' '.join(lemmatized_text)"
   ]
  },
  {
   "cell_type": "code",
   "execution_count": null,
   "id": "1a9469f8",
   "metadata": {},
   "outputs": [],
   "source": []
  }
 ],
 "metadata": {
  "kernelspec": {
   "display_name": "Python 3 (ipykernel)",
   "language": "python",
   "name": "python3"
  },
  "language_info": {
   "codemirror_mode": {
    "name": "ipython",
    "version": 3
   },
   "file_extension": ".py",
   "mimetype": "text/x-python",
   "name": "python",
   "nbconvert_exporter": "python",
   "pygments_lexer": "ipython3",
   "version": "3.10.9"
  }
 },
 "nbformat": 4,
 "nbformat_minor": 5
}
